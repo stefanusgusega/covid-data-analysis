{
 "cells": [
  {
   "cell_type": "markdown",
   "metadata": {},
   "source": [
    "# Exploratory Data Analysis"
   ]
  },
  {
   "cell_type": "code",
   "execution_count": 1,
   "metadata": {},
   "outputs": [],
   "source": [
    "DATA_PATH = '../data'"
   ]
  },
  {
   "cell_type": "code",
   "execution_count": 46,
   "metadata": {},
   "outputs": [],
   "source": [
    "import pandas as pd\n",
    "import os\n",
    "\n",
    "case_df = pd.read_csv(os.path.join(DATA_PATH, 'Case.csv'))\n",
    "patient_info_df = pd.read_csv(os.path.join(DATA_PATH, 'PatientInfo.csv'))\n",
    "policy_df = pd.read_csv(os.path.join(DATA_PATH, 'Policy.csv'))\n",
    "region_df = pd.read_csv(os.path.join(DATA_PATH, 'Region.csv'))\n",
    "time_df = pd.read_csv(os.path.join(DATA_PATH, 'Time.csv'))"
   ]
  },
  {
   "cell_type": "markdown",
   "metadata": {},
   "source": [
    "## Task 1.1\n",
    "\n",
    "Show policy type and duration average in days unit, then sort it descending"
   ]
  },
  {
   "cell_type": "code",
   "execution_count": 48,
   "metadata": {},
   "outputs": [
    {
     "data": {
      "text/html": [
       "<div>\n",
       "<style scoped>\n",
       "    .dataframe tbody tr th:only-of-type {\n",
       "        vertical-align: middle;\n",
       "    }\n",
       "\n",
       "    .dataframe tbody tr th {\n",
       "        vertical-align: top;\n",
       "    }\n",
       "\n",
       "    .dataframe thead th {\n",
       "        text-align: right;\n",
       "    }\n",
       "</style>\n",
       "<table border=\"1\" class=\"dataframe\">\n",
       "  <thead>\n",
       "    <tr style=\"text-align: right;\">\n",
       "      <th></th>\n",
       "      <th>policy_id</th>\n",
       "      <th>country</th>\n",
       "      <th>type</th>\n",
       "      <th>gov_policy</th>\n",
       "      <th>detail</th>\n",
       "      <th>start_date</th>\n",
       "      <th>end_date</th>\n",
       "    </tr>\n",
       "  </thead>\n",
       "  <tbody>\n",
       "    <tr>\n",
       "      <th>0</th>\n",
       "      <td>1</td>\n",
       "      <td>Korea</td>\n",
       "      <td>Alert</td>\n",
       "      <td>Infectious Disease Alert Level</td>\n",
       "      <td>Level 1 (Blue)</td>\n",
       "      <td>2020-01-03</td>\n",
       "      <td>2020-01-19</td>\n",
       "    </tr>\n",
       "    <tr>\n",
       "      <th>1</th>\n",
       "      <td>2</td>\n",
       "      <td>Korea</td>\n",
       "      <td>Alert</td>\n",
       "      <td>Infectious Disease Alert Level</td>\n",
       "      <td>Level 2 (Yellow)</td>\n",
       "      <td>2020-01-20</td>\n",
       "      <td>2020-01-27</td>\n",
       "    </tr>\n",
       "    <tr>\n",
       "      <th>2</th>\n",
       "      <td>3</td>\n",
       "      <td>Korea</td>\n",
       "      <td>Alert</td>\n",
       "      <td>Infectious Disease Alert Level</td>\n",
       "      <td>Level 3 (Orange)</td>\n",
       "      <td>2020-01-28</td>\n",
       "      <td>2020-02-22</td>\n",
       "    </tr>\n",
       "    <tr>\n",
       "      <th>3</th>\n",
       "      <td>4</td>\n",
       "      <td>Korea</td>\n",
       "      <td>Alert</td>\n",
       "      <td>Infectious Disease Alert Level</td>\n",
       "      <td>Level 4 (Red)</td>\n",
       "      <td>2020-02-23</td>\n",
       "      <td>NaN</td>\n",
       "    </tr>\n",
       "    <tr>\n",
       "      <th>4</th>\n",
       "      <td>5</td>\n",
       "      <td>Korea</td>\n",
       "      <td>Immigration</td>\n",
       "      <td>Special Immigration Procedure</td>\n",
       "      <td>from China</td>\n",
       "      <td>2020-02-04</td>\n",
       "      <td>NaN</td>\n",
       "    </tr>\n",
       "    <tr>\n",
       "      <th>...</th>\n",
       "      <td>...</td>\n",
       "      <td>...</td>\n",
       "      <td>...</td>\n",
       "      <td>...</td>\n",
       "      <td>...</td>\n",
       "      <td>...</td>\n",
       "      <td>...</td>\n",
       "    </tr>\n",
       "    <tr>\n",
       "      <th>56</th>\n",
       "      <td>57</td>\n",
       "      <td>Korea</td>\n",
       "      <td>Transformation</td>\n",
       "      <td>Logistics center</td>\n",
       "      <td>On-site inspection of major logistics faciliti...</td>\n",
       "      <td>2020-05-29</td>\n",
       "      <td>2020-06-11</td>\n",
       "    </tr>\n",
       "    <tr>\n",
       "      <th>57</th>\n",
       "      <td>58</td>\n",
       "      <td>Korea</td>\n",
       "      <td>Transformation</td>\n",
       "      <td>Wearing of masks</td>\n",
       "      <td>Mandatory wearing of passenger mask domestic, ...</td>\n",
       "      <td>2020-05-27</td>\n",
       "      <td>NaN</td>\n",
       "    </tr>\n",
       "    <tr>\n",
       "      <th>58</th>\n",
       "      <td>59</td>\n",
       "      <td>Korea</td>\n",
       "      <td>Transformation</td>\n",
       "      <td>Wearing of masks</td>\n",
       "      <td>Drivers such as buses and taxis can refuse to ...</td>\n",
       "      <td>2020-05-26</td>\n",
       "      <td>NaN</td>\n",
       "    </tr>\n",
       "    <tr>\n",
       "      <th>59</th>\n",
       "      <td>60</td>\n",
       "      <td>Korea</td>\n",
       "      <td>Technology</td>\n",
       "      <td>KI-Pass: Korea Internet - Pass</td>\n",
       "      <td>new quick response (QR) code system this week ...</td>\n",
       "      <td>2020-06-10</td>\n",
       "      <td>NaN</td>\n",
       "    </tr>\n",
       "    <tr>\n",
       "      <th>60</th>\n",
       "      <td>61</td>\n",
       "      <td>Korea</td>\n",
       "      <td>Health</td>\n",
       "      <td>Extends Tightened Quarantine Measures</td>\n",
       "      <td>Gov't Extends Tightened Quarantine Measures in...</td>\n",
       "      <td>2020-05-28</td>\n",
       "      <td>2020-06-14</td>\n",
       "    </tr>\n",
       "  </tbody>\n",
       "</table>\n",
       "<p>61 rows × 7 columns</p>\n",
       "</div>"
      ],
      "text/plain": [
       "    policy_id country            type                              gov_policy  \\\n",
       "0           1   Korea           Alert          Infectious Disease Alert Level   \n",
       "1           2   Korea           Alert          Infectious Disease Alert Level   \n",
       "2           3   Korea           Alert          Infectious Disease Alert Level   \n",
       "3           4   Korea           Alert          Infectious Disease Alert Level   \n",
       "4           5   Korea     Immigration           Special Immigration Procedure   \n",
       "..        ...     ...             ...                                     ...   \n",
       "56         57   Korea  Transformation                        Logistics center   \n",
       "57         58   Korea  Transformation                        Wearing of masks   \n",
       "58         59   Korea  Transformation                        Wearing of masks   \n",
       "59         60   Korea      Technology          KI-Pass: Korea Internet - Pass   \n",
       "60         61   Korea          Health  Extends Tightened Quarantine Measures    \n",
       "\n",
       "                                               detail  start_date    end_date  \n",
       "0                                      Level 1 (Blue)  2020-01-03  2020-01-19  \n",
       "1                                    Level 2 (Yellow)  2020-01-20  2020-01-27  \n",
       "2                                    Level 3 (Orange)  2020-01-28  2020-02-22  \n",
       "3                                       Level 4 (Red)  2020-02-23         NaN  \n",
       "4                                          from China  2020-02-04         NaN  \n",
       "..                                                ...         ...         ...  \n",
       "56  On-site inspection of major logistics faciliti...  2020-05-29  2020-06-11  \n",
       "57  Mandatory wearing of passenger mask domestic, ...  2020-05-27         NaN  \n",
       "58  Drivers such as buses and taxis can refuse to ...  2020-05-26         NaN  \n",
       "59  new quick response (QR) code system this week ...  2020-06-10         NaN  \n",
       "60  Gov't Extends Tightened Quarantine Measures in...  2020-05-28  2020-06-14  \n",
       "\n",
       "[61 rows x 7 columns]"
      ]
     },
     "execution_count": 48,
     "metadata": {},
     "output_type": "execute_result"
    }
   ],
   "source": [
    "policy_df"
   ]
  },
  {
   "cell_type": "code",
   "execution_count": 49,
   "metadata": {},
   "outputs": [
    {
     "data": {
      "text/plain": [
       "0"
      ]
     },
     "execution_count": 49,
     "metadata": {},
     "output_type": "execute_result"
    }
   ],
   "source": [
    "policy_df['start_date'].isna().sum()"
   ]
  },
  {
   "cell_type": "code",
   "execution_count": 50,
   "metadata": {},
   "outputs": [
    {
     "data": {
      "text/plain": [
       "37"
      ]
     },
     "execution_count": 50,
     "metadata": {},
     "output_type": "execute_result"
    }
   ],
   "source": [
    "policy_df['end_date'].isna().sum()"
   ]
  },
  {
   "cell_type": "markdown",
   "metadata": {},
   "source": [
    "Assume missing values are today date"
   ]
  },
  {
   "cell_type": "code",
   "execution_count": 53,
   "metadata": {},
   "outputs": [],
   "source": [
    "from datetime import datetime\n",
    "\n",
    "policy_df['end_date'].fillna(value=datetime.today().strftime('%Y-%m-%d'), inplace=True)"
   ]
  },
  {
   "cell_type": "code",
   "execution_count": 54,
   "metadata": {},
   "outputs": [
    {
     "data": {
      "text/plain": [
       "0"
      ]
     },
     "execution_count": 54,
     "metadata": {},
     "output_type": "execute_result"
    }
   ],
   "source": [
    "policy_df['end_date'].isna().sum()"
   ]
  },
  {
   "cell_type": "code",
   "execution_count": 55,
   "metadata": {},
   "outputs": [
    {
     "data": {
      "text/plain": [
       "0    2020-01-03\n",
       "1    2020-01-20\n",
       "2    2020-01-28\n",
       "3    2020-02-23\n",
       "4    2020-02-04\n",
       "        ...    \n",
       "56   2020-05-29\n",
       "57   2020-05-27\n",
       "58   2020-05-26\n",
       "59   2020-06-10\n",
       "60   2020-05-28\n",
       "Name: start_date, Length: 61, dtype: datetime64[ns]"
      ]
     },
     "execution_count": 55,
     "metadata": {},
     "output_type": "execute_result"
    }
   ],
   "source": [
    "policy_df['start_date'] = pd.to_datetime(policy_df['start_date'])\n",
    "policy_df['start_date']"
   ]
  },
  {
   "cell_type": "code",
   "execution_count": 56,
   "metadata": {},
   "outputs": [
    {
     "data": {
      "text/plain": [
       "0    2020-01-19\n",
       "1    2020-01-27\n",
       "2    2020-02-22\n",
       "3    2022-06-17\n",
       "4    2022-06-17\n",
       "        ...    \n",
       "56   2020-06-11\n",
       "57   2022-06-17\n",
       "58   2022-06-17\n",
       "59   2022-06-17\n",
       "60   2020-06-14\n",
       "Name: end_date, Length: 61, dtype: datetime64[ns]"
      ]
     },
     "execution_count": 56,
     "metadata": {},
     "output_type": "execute_result"
    }
   ],
   "source": [
    "policy_df['end_date'] = pd.to_datetime(policy_df['end_date'])\n",
    "policy_df['end_date']"
   ]
  },
  {
   "cell_type": "markdown",
   "metadata": {},
   "source": [
    "Apply mapping to get duration"
   ]
  },
  {
   "cell_type": "code",
   "execution_count": 63,
   "metadata": {},
   "outputs": [
    {
     "data": {
      "text/plain": [
       "0      16\n",
       "1       7\n",
       "2      25\n",
       "3     845\n",
       "4     864\n",
       "     ... \n",
       "56     13\n",
       "57    751\n",
       "58    752\n",
       "59    737\n",
       "60     17\n",
       "Name: duration, Length: 61, dtype: int64"
      ]
     },
     "execution_count": 63,
     "metadata": {},
     "output_type": "execute_result"
    }
   ],
   "source": [
    "policy_df['duration'] = (policy_df['end_date'] - policy_df['start_date']).map(lambda d: d.days)\n",
    "policy_df['duration']"
   ]
  },
  {
   "cell_type": "code",
   "execution_count": 67,
   "metadata": {},
   "outputs": [
    {
     "data": {
      "text/html": [
       "<div>\n",
       "<style scoped>\n",
       "    .dataframe tbody tr th:only-of-type {\n",
       "        vertical-align: middle;\n",
       "    }\n",
       "\n",
       "    .dataframe tbody tr th {\n",
       "        vertical-align: top;\n",
       "    }\n",
       "\n",
       "    .dataframe thead th {\n",
       "        text-align: right;\n",
       "    }\n",
       "</style>\n",
       "<table border=\"1\" class=\"dataframe\">\n",
       "  <thead>\n",
       "    <tr style=\"text-align: right;\">\n",
       "      <th></th>\n",
       "      <th>type</th>\n",
       "      <th>duration</th>\n",
       "    </tr>\n",
       "  </thead>\n",
       "  <tbody>\n",
       "    <tr>\n",
       "      <th>4</th>\n",
       "      <td>Immigration</td>\n",
       "      <td>828.333333</td>\n",
       "    </tr>\n",
       "    <tr>\n",
       "      <th>6</th>\n",
       "      <td>Technology</td>\n",
       "      <td>819.333333</td>\n",
       "    </tr>\n",
       "    <tr>\n",
       "      <th>3</th>\n",
       "      <td>Health</td>\n",
       "      <td>759.300000</td>\n",
       "    </tr>\n",
       "    <tr>\n",
       "      <th>7</th>\n",
       "      <td>Transformation</td>\n",
       "      <td>505.333333</td>\n",
       "    </tr>\n",
       "    <tr>\n",
       "      <th>5</th>\n",
       "      <td>Social</td>\n",
       "      <td>325.600000</td>\n",
       "    </tr>\n",
       "    <tr>\n",
       "      <th>0</th>\n",
       "      <td>Administrative</td>\n",
       "      <td>268.333333</td>\n",
       "    </tr>\n",
       "    <tr>\n",
       "      <th>1</th>\n",
       "      <td>Alert</td>\n",
       "      <td>223.250000</td>\n",
       "    </tr>\n",
       "    <tr>\n",
       "      <th>2</th>\n",
       "      <td>Education</td>\n",
       "      <td>95.866667</td>\n",
       "    </tr>\n",
       "  </tbody>\n",
       "</table>\n",
       "</div>"
      ],
      "text/plain": [
       "             type    duration\n",
       "4     Immigration  828.333333\n",
       "6      Technology  819.333333\n",
       "3          Health  759.300000\n",
       "7  Transformation  505.333333\n",
       "5          Social  325.600000\n",
       "0  Administrative  268.333333\n",
       "1           Alert  223.250000\n",
       "2       Education   95.866667"
      ]
     },
     "execution_count": 67,
     "metadata": {},
     "output_type": "execute_result"
    }
   ],
   "source": [
    "policy_mean_dur_df = policy_df[['type', 'duration']].groupby(by='type', as_index=False).mean().sort_values(by='duration', ascending=False)\n",
    "policy_mean_dur_df"
   ]
  }
 ],
 "metadata": {
  "kernelspec": {
   "display_name": "Python 3.10.2 ('env': venv)",
   "language": "python",
   "name": "python3"
  },
  "language_info": {
   "codemirror_mode": {
    "name": "ipython",
    "version": 3
   },
   "file_extension": ".py",
   "mimetype": "text/x-python",
   "name": "python",
   "nbconvert_exporter": "python",
   "pygments_lexer": "ipython3",
   "version": "3.10.2"
  },
  "orig_nbformat": 4,
  "vscode": {
   "interpreter": {
    "hash": "1d66f91defbf7a7036ee4f012189d78a51a288ef927c5996af790d113b836469"
   }
  }
 },
 "nbformat": 4,
 "nbformat_minor": 2
}
